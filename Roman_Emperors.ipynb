{
  "nbformat": 4,
  "nbformat_minor": 0,
  "metadata": {
    "colab": {
      "provenance": [],
      "authorship_tag": "ABX9TyMYsg440Bz/L5qXf2iew054",
      "include_colab_link": true
    },
    "kernelspec": {
      "name": "python3",
      "display_name": "Python 3"
    },
    "language_info": {
      "name": "python"
    }
  },
  "cells": [
    {
      "cell_type": "markdown",
      "metadata": {
        "id": "view-in-github",
        "colab_type": "text"
      },
      "source": [
        "<a href=\"https://colab.research.google.com/github/ramprabumithra/Machine-Learning-Projects/blob/main/Roman_Emperors.ipynb\" target=\"_parent\"><img src=\"https://colab.research.google.com/assets/colab-badge.svg\" alt=\"Open In Colab\"/></a>"
      ]
    },
    {
      "cell_type": "code",
      "execution_count": 2,
      "metadata": {
        "colab": {
          "base_uri": "https://localhost:8080/"
        },
        "id": "4uBSkn1ZSCph",
        "outputId": "6df3b328-8de7-40c5-dc3c-cdb9df02613f"
      },
      "outputs": [
        {
          "output_type": "stream",
          "name": "stdout",
          "text": [
            "Requirement already satisfied: requests in /usr/local/lib/python3.10/dist-packages (2.32.3)\n",
            "Requirement already satisfied: beautifulsoup4 in /usr/local/lib/python3.10/dist-packages (4.12.3)\n",
            "Requirement already satisfied: charset-normalizer<4,>=2 in /usr/local/lib/python3.10/dist-packages (from requests) (3.4.0)\n",
            "Requirement already satisfied: idna<4,>=2.5 in /usr/local/lib/python3.10/dist-packages (from requests) (3.10)\n",
            "Requirement already satisfied: urllib3<3,>=1.21.1 in /usr/local/lib/python3.10/dist-packages (from requests) (2.2.3)\n",
            "Requirement already satisfied: certifi>=2017.4.17 in /usr/local/lib/python3.10/dist-packages (from requests) (2024.12.14)\n",
            "Requirement already satisfied: soupsieve>1.2 in /usr/local/lib/python3.10/dist-packages (from beautifulsoup4) (2.6)\n"
          ]
        }
      ],
      "source": [
        "!pip install requests beautifulsoup4"
      ]
    },
    {
      "cell_type": "code",
      "source": [
        "import requests\n",
        "import urllib.request\n",
        "from bs4 import BeautifulSoup"
      ],
      "metadata": {
        "id": "brWJFJxw92y9"
      },
      "execution_count": 3,
      "outputs": []
    },
    {
      "cell_type": "code",
      "source": [
        "import matplotlib.pyplot as plt\n",
        "import seaborn as sns\n",
        "import pandas as pd\n",
        "import numpy as np"
      ],
      "metadata": {
        "id": "_g3vhUCTUttg"
      },
      "execution_count": 4,
      "outputs": []
    },
    {
      "cell_type": "code",
      "source": [
        "url = requests.get('https://en.wikipedia.org/wiki/List_of_Roman_emperors').text\n",
        "soup = BeautifulSoup(url,'html')"
      ],
      "metadata": {
        "id": "XBktCM3d20Zt"
      },
      "execution_count": 6,
      "outputs": []
    },
    {
      "cell_type": "code",
      "source": [
        "tables = soup.findAll('table', {'class': 'wikitable'})\n",
        "if tables:\n",
        "  print(\"Found tables!\")\n",
        "else:\n",
        "  print(f\"Failed to retrieve the page. Status code: {response.status_code}\")"
      ],
      "metadata": {
        "colab": {
          "base_uri": "https://localhost:8080/"
        },
        "id": "Jbq-vfLU-HwI",
        "outputId": "26d74ac9-3414-472b-8f2e-8c39cdf8b660"
      },
      "execution_count": 7,
      "outputs": [
        {
          "output_type": "stream",
          "name": "stdout",
          "text": [
            "Found tables!\n"
          ]
        }
      ]
    },
    {
      "cell_type": "code",
      "source": [
        "if tables:\n",
        "    print(\"First few rows of the first table:\")\n",
        "    first_table = tables[0]\n",
        "    rows = first_table.find_all(\"tr\")\n",
        "\n",
        "    # Print first 5 rows (or less if there are not that many)\n",
        "    for i, row in enumerate(rows[:5]):\n",
        "        print(f\"Row {i+1}: {row.text.strip()}\")\n",
        ""
      ],
      "metadata": {
        "colab": {
          "base_uri": "https://localhost:8080/"
        },
        "id": "HSJQ1P1mPkDK",
        "outputId": "a56377a5-f594-43fc-9b00-bcd8d92628ab"
      },
      "execution_count": 46,
      "outputs": [
        {
          "output_type": "stream",
          "name": "stdout",
          "text": [
            "First few rows of the first table:\n",
            "Row 1: Portrait\n",
            "\n",
            " Name[f]\n",
            "\n",
            "Reign\n",
            "\n",
            "Succession\n",
            "\n",
            "Life details\n",
            "Row 2: AugustusCaesar Augustus\n",
            "\n",
            "16 January 27 BC – 19 August AD 14  (40 years, 7 months and 3 days)[g]\n",
            "\n",
            "Grandnephew and adopted son of Julius Caesar. Gradually acquired further power through grants from, and constitutional settlements with, the Roman Senate. Continuously head of state since 19 August 43 BC, unopposed after the Battle of Actium in 31 BC.\n",
            "\n",
            "23 September 63 BC – 19 August 14(aged 75)Born as Gaius Octavius. Died of natural causes[53]\n",
            "Row 3: TiberiusTiberius Caesar Augustus\n",
            "\n",
            "17 September 14 – 16 March 37(22 years, 5 months and 27 days)\n",
            "\n",
            "Stepson, former son-in-law and adopted son of Augustus\n",
            "\n",
            "16 November 42 BC – 16 March 37(aged 77)Died probably of natural causes, allegedly murdered at the instigation of Caligula[54]\n",
            "Row 4: CaligulaGaius Caesar Augustus Germanicus\n",
            "\n",
            "18 March 37 – 24 January 41(3 years, 10 months and 6 days)\n",
            "\n",
            "Grandnephew and adopted heir of Tiberius, great-grandson of Augustus\n",
            "\n",
            "31 August 12 – 24 January 41(aged 28)Murdered in a conspiracy involving the Praetorian Guard and senators[55]\n",
            "Row 5: ClaudiusTiberius Claudius Caesar Augustus Germanicus\n",
            "\n",
            "24 January 41 – 13 October 54(13 years, 8 months and 19 days)\n",
            "\n",
            "Uncle of Caligula, grandnephew of Augustus, proclaimed emperor by the Praetorian Guard and accepted by the Senate\n",
            "\n",
            "1 August 10 BC – 13 October 54(aged 63)Began the Roman conquest of Britain. Probably poisoned by his wife Agrippina, in favor of her son Nero[56]\n"
          ]
        }
      ]
    },
    {
      "cell_type": "code",
      "source": [
        "from bs4 import BeautifulSoup\n",
        "\n",
        "# Assuming you have the HTML content in the `soup` variable\n",
        "soup = BeautifulSoup(url, 'html.parser')\n",
        "\n",
        "# Find all rows\n",
        "rows = soup.find_all('tr')\n",
        "\n",
        "# Process the rows and extract names\n",
        "names = []\n",
        "for row in rows:\n",
        "    # Find the second column (which contains the name inside <th>)\n",
        "    th_cells = row.find_all('th')\n",
        "    if th_cells:\n",
        "        # The name is inside an <a> tag within the <th> tag\n",
        "        name_tag = th_cells[0].find('a')  # Access the <a> tag in the second column\n",
        "        if name_tag:\n",
        "            name = name_tag.get_text(strip=True)  # Get the name text\n",
        "            names.append(name)\n",
        "\n",
        "# Print the extracted names\n",
        "print(names)\n"
      ],
      "metadata": {
        "colab": {
          "base_uri": "https://localhost:8080/"
        },
        "id": "nx-8a8rNYJUO",
        "outputId": "286d0758-47ee-4493-d846-3b87a68a68a6"
      },
      "execution_count": 53,
      "outputs": [
        {
          "output_type": "stream",
          "name": "stdout",
          "text": [
            "['Augustus', 'Tiberius', 'Caligula', 'Claudius', 'Nero', 'Galba', 'Otho', 'Vitellius', 'Vespasian', 'Titus', 'Domitian', 'Nerva', 'Trajan', 'Hadrian', 'Antoninus Pius', 'Marcus Aurelius', 'Lucius Verus', 'Commodus', 'Pertinax', 'Didius Julianus', 'Septimius Severus', 'Caracalla', 'Geta', 'Macrinus', 'Diadumenian', 'Elagabalus', 'Severus Alexander', 'Maximinus I', 'Gordian I', 'Gordian II', 'Pupienus', 'Balbinus', 'Gordian III', 'Philip I', 'Philip II', 'Decius', 'Herennius Etruscus', 'Trebonianus Gallus', 'Hostilian', 'Volusianus', 'Aemilianus', 'Silbannacus', 'Valerian', 'Gallienus', 'Saloninus', 'Claudius II', 'Quintillus', 'Aurelian', 'Tacitus', 'Florianus', 'Probus', 'Carus', 'Carinus', 'Numerian', 'Diocletian', 'Maximian', 'Galerius', 'Constantius I', 'Severus II', 'Maxentius', 'Licinius', 'Maximinus II', 'Valerius Valens', 'Martinian', 'Constantine I', 'Constantine II', 'Constans I', 'Constantius II', 'Magnentius', 'Vetranio', 'Nepotianus', 'Julian', 'Jovian', 'Valentinian I', 'Valens', 'Procopius', 'Gratian', 'Magnus Maximus', 'Valentinian II', 'Eugenius', 'Theodosius I', 'Arcadius', 'Honorius', 'Constantine III', 'Theodosius II', 'Priscus Attalus', 'Constantius III', 'Johannes', 'Valentinian III', 'Marcian', 'Petronius Maximus', 'Avitus', 'Majorian', 'Libius Severus', 'Anthemius', 'Olybrius', 'Glycerius', 'Julius Nepos', 'Romulus\"Augustulus\"', 'Leo I', 'Leo II', 'Zeno', 'Basiliscus', 'Zeno', 'Anastasius I', 'Justin I', 'Justinian I', 'Justin II', 'Tiberius IIConstantine', 'Maurice', 'Phocas', 'Heraclius', 'Heraclius Constantine', 'Heraclonas', 'Constans II', 'Constantine IV', 'Justinian II', 'Leontius', 'Tiberius III', 'Justinian II', 'Philippicus', 'Anastasius II', 'Theodosius III', 'Leo III', 'Constantine V', 'Artabasdos', 'Leo IV', 'Constantine VI', 'Irene', 'Nikephoros I', 'Staurakios', 'Michael IRangabe', 'Leo V', 'Michael II', 'Theophilos', 'Theodora', 'Michael III', 'Basil I', 'Leo VI', 'Alexander', 'Constantine VIIPorphyrogenitus', 'Romanos ILekapenos', 'Romanos II', 'Nikephoros IIPhokas', 'John ITzimiskes', 'Basil II', 'Constantine VIII', 'Romanos IIIArgyros', 'Michael IV', 'Michael V', 'ZoëPorphyrogenita', 'TheodoraPorphyrogenita', 'Constantine IXMonomachos', 'TheodoraPorphyrogenita', 'Michael VIBringas', 'Isaac IKomnenos', 'Constantine XDoukas', 'EudokiaMakrembolitissa', 'Romanos IVDiogenes', 'Michael VIIDoukas', 'Nikephoros IIIBotaneiates', 'Alexios IKomnenos', 'John IIKomnenos', 'Manuel IKomnenos', 'Alexios IIKomnenos', 'Andronikos IKomnenos', 'Isaac IIAngelos', 'Alexios IIIAngelos', 'Alexios IVAngelos', 'Isaac IIAngelos', 'Alexios VDoukas', 'Theodore ILaskaris', 'John IIIVatatzes', 'Theodore IILaskaris', 'John IVLaskaris', 'Michael VIIIPalaiologos', 'Andronikos IIPalaiologos', 'Michael IXPalaiologos', 'Andronikos IIIPalaiologos', 'John VPalaiologos', 'John VIKantakouzenos', 'Andronikos IVPalaiologos', 'John VIIPalaiologos', 'Manuel IIPalaiologos', 'John VIIIPalaiologos', 'Constantine XIPalaiologos', 'v', 'Principate', 'Crisis', 'Dominate', 'Western Empire', 'Eastern Empire', 'Eastern/Byzantine Empire', 'v']\n"
          ]
        }
      ]
    },
    {
      "cell_type": "code",
      "source": [
        "if tables:\n",
        "    text = \"\"\n",
        "    print(\"First few rows of the first table:\")\n",
        "    first_table = tables[0]\n",
        "    rows = first_table.find_all(\"tr\")\n",
        "    cols = first_table.find_all(\"td\")\n",
        "    # Print first 5 rows (or less if there are not that many)\n",
        "    for i, cols in enumerate(cols[:4]):\n",
        "        print(f\"Column {i+1}: {cols.text.strip()}\")\n",
        ""
      ],
      "metadata": {
        "colab": {
          "base_uri": "https://localhost:8080/"
        },
        "id": "61Uf7CCYO77p",
        "outputId": "7f516f76-14ee-4f2d-c36a-2ed217b3252f"
      },
      "execution_count": 47,
      "outputs": [
        {
          "output_type": "stream",
          "name": "stdout",
          "text": [
            "First few rows of the first table:\n",
            "Column 1: \n",
            "Column 2: 16 January 27 BC – 19 August AD 14  (40 years, 7 months and 3 days)[g]\n",
            "Column 3: Grandnephew and adopted son of Julius Caesar. Gradually acquired further power through grants from, and constitutional settlements with, the Roman Senate. Continuously head of state since 19 August 43 BC, unopposed after the Battle of Actium in 31 BC.\n",
            "Column 4: 23 September 63 BC – 19 August 14(aged 75)Born as Gaius Octavius. Died of natural causes[53]\n"
          ]
        }
      ]
    },
    {
      "cell_type": "code",
      "source": [
        "names, births, reigns, deaths, causes, ages = [], [], [], [], [], []\n",
        "\n",
        "for table in tables:\n",
        "    rows = table.findAll('tr')\n",
        "    for row in rows[1:]:\n",
        "        cells = row.findAll('td')\n",
        "        th_cells = row.findAll('th')\n",
        "        if len(cells) >= 4:\n",
        "            if th_cells:\n",
        "                name_tag = th_cells[0].find('a')\n",
        "                if name_tag:\n",
        "                    name = name_tag.get_text(strip=True)\n",
        "                    names.append(name)\n",
        "\n",
        "            # Reign Extraction\n",
        "            reign_cells = cells[1]\n",
        "            reign = \" \".join(reign_cells.stripped_strings)\n",
        "            reigns.append(reign)\n",
        "\n",
        "            # Life Details Extraction\n",
        "            life_details = \" \".join(cells[3].stripped_strings)  # Includes all text, even within nested tags\n",
        "            birth, death, cause, age = \"\", \"\", \"Unknown\", \"\"\n",
        "\n",
        "            # Extract birth and death\n",
        "            if \"–\" in life_details:  # Em dash separating birth and death\n",
        "                parts = life_details.split(\"–\")\n",
        "                birth = parts[0].strip()\n",
        "                death_info = parts[1].strip()\n",
        "\n",
        "                # Check for age in parentheses\n",
        "                if \"(\" in death_info:\n",
        "                    death_parts = death_info.split(\"(\")\n",
        "                    death = death_parts[0].strip()\n",
        "                    age = death_parts[1].replace(\"aged\", \"\").replace(\")\", \"\").strip()\n",
        "                else:\n",
        "                    death = death_info\n",
        "\n",
        "            # Cause extraction\n",
        "            life_lower = life_details.lower()\n",
        "            if \"natural\" in life_lower or \"peacefully\" in life_lower:\n",
        "                cause = \"Natural Causes\"\n",
        "            elif any(kw in life_lower for kw in [\"assassinated\", \"murdered\", \"killed\", \"strangled\", \"conspiracy\", \"executed\", \"lynched\"]):\n",
        "                cause = \"Assassination\"\n",
        "            elif \"suicide\" in life_lower:\n",
        "                cause = \"Suicide\"\n",
        "            elif any(kw in life_lower for kw in [\"poison\", \"poisoned\"]):\n",
        "                cause = \"Poison\"\n",
        "            elif any(kw in life_lower for kw in [\"disease\", \"dysentery\", \"plague\", \"fever\"]):\n",
        "                cause = \"Disease\"\n",
        "\n",
        "            births.append(birth)\n",
        "            deaths.append(death)\n",
        "            causes.append(cause)\n",
        "            ages.append(age)\n",
        "\n",
        "if names:\n",
        "    for i in range(len(names)):\n",
        "        print(f\"Name: {names[i]}, Birth: {births[i]}, Reign: {reigns[i]}, Death: {deaths[i]}, Cause: {causes[i]}, Age: {ages[i]}\")\n",
        "else:\n",
        "    print(\"No names were extracted.\")\n",
        "\n",
        "\n"
      ],
      "metadata": {
        "colab": {
          "base_uri": "https://localhost:8080/"
        },
        "id": "gnqzfKVZAzkw",
        "outputId": "3996fcf6-1fc4-4099-c019-430a31787c4b"
      },
      "execution_count": 61,
      "outputs": [
        {
          "output_type": "stream",
          "name": "stdout",
          "text": [
            "Name: Augustus, Birth: 23 September 63 BC, Reign: 16 January 27 BC – 19 August AD 14 (40 years, 7 months and 3 days) [ g ], Death: 19 August 14, Cause: Natural Causes, Age: 75 Born as Gaius Octavius . Died of natural causes [ 53 ]\n",
            "Name: Tiberius, Birth: 16 November 42 BC, Reign: 17 September 14 – 16 March 37 (22 years, 5 months and 27 days), Death: 16 March 37, Cause: Natural Causes, Age: 77 Died probably of natural causes, allegedly murdered at the instigation of Caligula [ 54 ]\n",
            "Name: Caligula, Birth: 31 August 12, Reign: 18 March 37 – 24 January 41 (3 years, 10 months and 6 days), Death: 24 January 41, Cause: Assassination, Age: 28 Murdered in a conspiracy involving the Praetorian Guard and senators [ 55 ]\n",
            "Name: Claudius, Birth: 1 August 10 BC, Reign: 24 January 41 – 13 October 54 (13 years, 8 months and 19 days), Death: 13 October 54, Cause: Poison, Age: 63 Began the Roman conquest of Britain . Probably poisoned by his wife Agrippina , in favor of her son Nero [ 56 ]\n",
            "Name: Nero, Birth: 15 December 37, Reign: 13 October 54 – 9 June 68 (13 years, 7 months and 27 days), Death: 9 June 68, Cause: Suicide, Age: 30 Committed suicide after being deserted by the Praetorian Guard and sentenced to death by the Senate [ 57 ]\n",
            "Name: Galba, Birth: 24 December 3 BC, Reign: 8 June 68 – 15 January 69 (7 months and 7 days), Death: 15 January 69, Cause: Assassination, Age: 71 Murdered by soldiers of the Praetorian Guard in a coup led by Otho [ 58 ]\n",
            "Name: Otho, Birth: 28 April 32, Reign: 15 January – 16 April 69 (3 months and 1 day), Death: 16 April 69, Cause: Suicide, Age: 36 Committed suicide after losing the Battle of Bedriacum to Vitellius [ 59 ]\n",
            "Name: Vitellius, Birth: 24 September 15, Reign: 19 April – 20 December 69 (8 months and 1 day), Death: 20 December 69, Cause: Assassination, Age: 54 Murdered by Vespasian 's troops [ 60 ]\n",
            "Name: Vespasian, Birth: 17 November 9, Reign: 1 July 69 – 23 June 79 (9 years, 11 months and 22 days), Death: 23 June 79, Cause: Disease, Age: 69 Began construction of the Colosseum . Died of dysentery [ 61 ]\n",
            "Name: Titus, Birth: 30 December 39, Reign: 24 June 79 – 13 September 81 (2 years, 2 months and 20 days), Death: 13 September 81, Cause: Natural Causes, Age: 41 Died of natural causes [ 62 ]\n",
            "Name: Domitian, Birth: 24 October 51, Reign: 14 September 81 – 18 September 96 (15 years and 4 days), Death: 18 September 96, Cause: Assassination, Age: 44 Assassinated in a conspiracy of court officials, possibly involving Nerva [ 63 ]\n",
            "Name: Nerva, Birth: 8 November 30, Reign: 18 September 96 – 27 January 98 (1 year, 4 months and 9 days), Death: 27/28 January 98, Cause: Natural Causes, Age: 67 First of the \" Five Good Emperors \". Died of natural causes [ 64 ]\n",
            "Name: Trajan, Birth: 18 September 53, Reign: 28 January 98 – 9 August (?) 117 (19 years, 6 months and 11 days), Death: 9 August, Cause: Natural Causes, Age: ? 117\n",
            "Name: Hadrian, Birth: 24 January 76, Reign: 11 August 117 – 10 July 138 (20 years, 10 months and 29 days), Death: 10 July 138, Cause: Natural Causes, Age: 62 Ended Roman expansionism. Destroyed Judea after a massive revolt. Died of natural causes [ 66 ]\n",
            "Name: Antoninus Pius, Birth: 19 September 86, Reign: 10 July 138 – 7 March 161 (22 years, 7 months and 25 days), Death: 7 March 161, Cause: Natural Causes, Age: 74 Died of natural causes [ 68 ]\n",
            "Name: Marcus Aurelius, Birth: 26 April 121, Reign: 7 March 161 – 17 March 180 (19 years and 10 days), Death: 17 March 180, Cause: Natural Causes, Age: 58 Last of the \" Five Good Emperors \"; also one of the most representative Stoic philosophers . Died of natural causes [ 69 ]\n",
            "Name: Lucius Verus, Birth: 15 December 130, Reign: 7 March 161 – January/February 169 (7 years and 11 months), Death: early 169, Cause: Natural Causes, Age: 38 Died of natural causes [ 70 ]\n",
            "Name: Commodus, Birth: 31 August 161, Reign: 17 March 180 – 31 December 192 (12 years, 9 months and 14 days), Death: 31 December 192, Cause: Assassination, Age: 31 Strangled to death in a conspiracy involving his praetorian prefect, Laetus , and mistress, Marcia [ 71 ]\n",
            "Name: Pertinax, Birth: 1 August 126, Reign: 1 January – 28 March 193 (2 months and 27 days), Death: 28 March 193, Cause: Assassination, Age: 66 Murdered by mutinous soldiers of the Praetorian Guard [ 72 ]\n",
            "Name: Didius Julianus, Birth: 30 January 133, Reign: 28 March – 1 June 193 (2 months and 4 days), Death: 1/2 June 193, Cause: Assassination, Age: 60 Killed on order of the Senate , at the behest of Septimius Severus [ 73 ]\n",
            "Name: Septimius Severus, Birth: 11 April 145, Reign: 9 April 193 – 4 February 211 (17 years, 9 months and 26 days), Death: 4 February 211, Cause: Natural Causes, Age: 65 First non-European emperor. Died of natural causes [ 74 ]\n",
            "Name: Caracalla, Birth: 4 April 188, Reign: 4 February 211 – 8 April 217 (6 years, 2 months and 4 days), Death: 8 April 217, Cause: Assassination, Age: 29 First child emperor. Granted Roman citizenship to all free inhabitants of the empire . Murdered by a soldier at the instigation of Macrinus [ 75 ]\n",
            "Name: Geta, Birth: 7 March 189, Reign: 4 February 211 – 26 December 211 (10 months and 22 days), Death: 26 December 211, Cause: Assassination, Age: 22 Murdered on order of his brother, Caracalla [ 76 ]\n",
            "Name: Macrinus, Birth: c. 165, Reign: 11 April 217 – 8 June 218 (1 year, 1 month and 28 days), Death: June 218, Cause: Assassination, Age: approx. 53 First non-senator to become emperor, and first emperor not to visit Rome after acceding. Executed during a revolt of the troops in favor of Elagabalus . [ 77 ]\n",
            "Name: Diadumenian, Birth: 14 September 208, Reign: Late May – June 218 (less than a month), Death: June 218, Cause: Assassination, Age: 9 Caught in flight and executed in favor of Elagabalus [ 78 ]\n",
            "Name: Elagabalus, Birth: 203/204, Reign: 16 May 218 – 13 March 222 (3 years, 9 months and 25 days), Death: 13 March 222, Cause: Assassination, Age: 18 Murdered by the Praetorian Guard alongside his mother , probably at the instigation of Julia Maesa [ 79 ]\n",
            "Name: Severus Alexander, Birth: 1 October 208, Reign: 14 March 222 – March 235 (13 years), Death: early March 235, Cause: Assassination, Age: 26 Lynched by mutinous troops, alongside his mother [ 80 ]\n",
            "Name: Maximinus I, Birth: c. 172, Reign: c. March 235 – c. June 238 (3 years and 3 months), Death: 180, Cause: Assassination, Age: \n",
            "Name: Gordian I, Birth: c. 158 (?), Reign: c. April – c. May 238 (22 days), Death: c. May 238, Cause: Suicide, Age: approx. 80 Oldest emperor at the time of his elevation. Committed suicide upon hearing of the death of his son [ 86 ]\n",
            "Name: Gordian II, Birth: c. 192, Reign: c. April – c. May 238 (22 days), Death: c. May 238, Cause: Assassination, Age: approx. 46 The shortest-reigning emperor. Killed outside Carthage in battle against an army loyal to Maximinus I [ 87 ]\n",
            "Name: Pupienus, Birth: c. 164, Reign: c. May – c. August 238 (99 days), Death: c. August 238, Cause: Assassination, Age: approx. 74 Tortured and murdered by the Praetorian Guard [ 88 ]\n",
            "Name: Balbinus, Birth: c. 178, Reign: c. May – c. August 238 (99 days), Death: c. August 238, Cause: Assassination, Age: approx. 60 Tortured and murdered by the Praetorian Guard [ 89 ]\n",
            "Name: Gordian III, Birth: 20 January 225, Reign: c. August 238 – c. February 244 (c. 5 years and 6 months), Death: c. February 244, Cause: Unknown, Age: 19 Died during campaign against Persia , possibly in a murder plot instigated by Philip I [ 90 ]\n",
            "Name: Philip I, Birth: c. 204, Reign: c. February 244 – September/October 249 (c. 5 years and 7/8 months), Death: September/October 249, Cause: Assassination, Age: approx. 45 Killed at the Battle of Verona , against Decius [ 91 ]\n",
            "Name: Philip II, Birth: c. 237, Reign: July/August 247 – September/October 249 (c. 2 years and 2 months), Death: September/October 249, Cause: Assassination, Age: approx. 12 Murdered by the Praetorian Guard [ 92 ]\n",
            "Name: Decius, Birth: c. 190/200, Reign: September/October 249 – June 251 (c. 1 year and 8/9 months), Death: June 251, Cause: Assassination, Age: approx. 50/60 Killed at the Battle of Abrittus , against the Goths [ 93 ]\n",
            "Name: Herennius Etruscus, Birth: Unknown, Reign: May/June – June 251 (less than a month), Death: June 251 Killed at the Battle of Abrittus alongside his father [ 94 ], Cause: Assassination, Age: \n",
            "Name: Trebonianus Gallus, Birth: c. 206, Reign: June 251 – c. August 253 (c. 2 years and 2 months), Death: c. August 253, Cause: Assassination, Age: 47 Murdered by his own troops in favor of Aemilian [ 95 ]\n",
            "Name: Hostilian, Birth: Unknown, Reign: c. June – c. July 251 (c. 1 month), Death: c. July 251 Died of plague or murdered by Trebonianus Gallus [ 96 ], Cause: Assassination, Age: \n",
            "Name: Volusianus, Birth: c. 230, Reign: c. August 251 – c. August 253 (2 years), Death: c. August 253, Cause: Assassination, Age: approx. 23 Murdered by the soldiers, alongside his father [ 97 ]\n",
            "Name: Aemilianus, Birth: c. 207, Reign: c. July – c. September 253 (88 days?), Death: c. September 253, Cause: Assassination, Age: approx. 46 Murdered by his own troops in favor of Valerian [ 98 ]\n",
            "Name: Silbannacus, Birth: , Reign: c. September/October 253 (?) (very briefly?), Death: , Cause: Unknown, Age: \n",
            "Name: Valerian, Birth: c. 200, Reign: c. September 253 – c. June 260 (c. 6 years and 9 months), Death: after 262, Cause: Unknown, Age: ? Captured at Edessa by the Persian king Shapur I , died in captivity possibly forced to swallow molten gold [ 102 ]\n",
            "Name: Gallienus, Birth: 218, Reign: c. September 253 – c. September 268 (15 years), Death: c. September 268, Cause: Assassination, Age: 50 Faced multiple revolts & barbarian invasions. Murdered in a conspiracy of army officers, involving Claudius II and Aurelian [ 103 ]\n",
            "Name: Saloninus, Birth: Unknown, Reign: Autumn 260 (c. 1 month), Death: Late 260 Murdered by troops loyal to Postumus [ 106 ], Cause: Assassination, Age: \n",
            "Name: Claudius II, Birth: 10 May 214, Reign: c. September 268 – c. August 270 (c. 1 year and 11 months), Death: August/September, Cause: Disease, Age: ? 270\n",
            "Name: Quintillus, Birth: Unknown, Reign: c. August – c. September 270 ( c. 27 days), Death: 270 Committed suicide or killed at the behest of Aurelian [ 108 ], Cause: Assassination, Age: \n",
            "Name: Aurelian, Birth: 9 September 214, Reign: c. August 270 – c. November 275 (c. 5 years and 3 months), Death: Sept./Dec. 275, Cause: Assassination, Age: 61 Reunified the Roman Empire. Murdered by the Praetorian Guard [ 109 ]\n",
            "Name: Tacitus, Birth: c. 200 (?), Reign: c. December 275 – c. June 276 (c. 7 months), Death: c. June 276, Cause: Assassination, Age: approx. 76 Died of illness or possibly murdered [ 110 ]\n",
            "Name: Florianus, Birth: Unknown, Reign: c. June – September 276 (80–88 days), Death: September/October 276 Murdered by his own troops in favor of Probus [ 111 ], Cause: Assassination, Age: \n",
            "Name: Probus, Birth: 19 August 232, Reign: c. June 276 – c. September 282 (c. 6 years and 3 months), Death: c. September 282, Cause: Assassination, Age: 50 Murdered by his own troops in favor of Carus [ 112 ]\n",
            "Name: Carus, Birth: c. 224 (?), Reign: c. September 282 – c. July/August 283 (c. 10 months), Death: c. July/August 283, Cause: Unknown, Age: approx. 60 Died in Persia , either of illness, assassination, or by being hit by lightning [ 113 ]\n",
            "Name: Carinus, Birth: c. 250, Reign: Spring 283 – August/September 285 (2 years), Death: August/September 285, Cause: Unknown, Age: approx. 35 Probably died in battle against Diocletian, likely betrayed by his own soldiers [ 114 ]\n",
            "Name: Numerian, Birth: c. 253, Reign: c. July/August 283 – November 284 (1 year and 3/4 months), Death: November 284, Cause: Assassination, Age: approx. 31 Died while marching to Europe, probably of disease, possibly assassinated [ 115 ]\n",
            "Name: Diocletian, Birth: 22 December c. 243, Reign: 20 November 284 – 1 May 305 (20 years, 5 months and 11 days) Whole ; then East, Death: 3 December c. 311, Cause: Suicide, Age: approx. 68 Began the last great persecution of Christianity. First emperor to voluntarily abdicate. Died in unclear circumstances, possibly suicide [ 116 ]\n",
            "Name: Maximian, Birth: c. 250, Reign: 1 April 286 [ n ] – 1 May 305 (19 years and 1 month; West ) November 306 – 11 November 308 (2 years; Italy ), Death: c. July 310, Cause: Assassination, Age: approx. 60 Abdicated with Diocletian, later trying to regain power with, and then from, Maxentius , before being probably killed on orders of Constantine I [ 118 ]\n",
            "Name: Galerius, Birth: c. 258, Reign: 1 May 305 – May 311 (6 years; East ), Death: May 311, Cause: Natural Causes, Age: approx. 53 Died of natural causes [ 119 ]\n",
            "Name: Constantius I, Birth: 31 March c. 250, Reign: 1 May 305 – 25 July 306 (1 year, 2 months and 24 days; West ), Death: 25 July 306, Cause: Natural Causes, Age: approx. 56 Died of natural causes [ 120 ]\n",
            "Name: Severus II, Birth: Unknown, Reign: August 306 – March/April 307 (c. 8 months; West ), Death: September 307 Surrendered to Maximian and Maxentius, later murdered or forced to commit suicide [ 121 ], Cause: Assassination, Age: \n",
            "Name: Maxentius, Birth: c. 283, Reign: 28 October 306 – 28 October 312 (6 years; Italy ), Death: 28 October 312, Cause: Unknown, Age: approx. 29 Died at the Battle of the Milvian Bridge , against Constantine I [ 122 ]\n",
            "Name: Licinius, Birth: c. 265, Reign: 11 November 308 – 19 September 324 (15 years, 10 months and 8 days) West ; then East, Death: early 325, Cause: Unknown, Age: approx. 60 Defeated, deposed and put to death by Constantine I [ 123 ]\n",
            "Name: Maximinus II, Birth: 20 November c. 270, Reign: 310 – c. July 313 (3 years; East ), Death: c. July 313, Cause: Unknown, Age: approx. 42 Defeated in civil war against Licinius , died shortly afterwards [ 124 ]\n",
            "Name: Valerius Valens, Birth: Unknown, Reign: October 316 – c. January 317 (c. 2–3 months; East *), Death: 317 Executed in the lead-up to a peace settlement between Licinius and Constantine [ 126 ], Cause: Assassination, Age: \n",
            "Name: Martinian, Birth: Unknown, Reign: July – 19 September 324 (2 months; East *), Death: 325 Deposed by Constantine and banished to Cappadocia , later executed [ 127 ], Cause: Assassination, Age: \n",
            "Name: Constantine I, Birth: 27 February 272/273, Reign: 25 July 306 – 22 May 337 (30 years, 9 months and 27 days) West ; then whole, Death: 22 May 337, Cause: Natural Causes, Age: 64/65 First Christian emperor and founder of Constantinople . Sole ruler of the Empire after defeating Maxentius in 312 and Licinius in 324. Died of natural causes [ 128 ]\n",
            "Name: Constantine II, Birth: c. February 316, Reign: 9 September 337 – April 340 (2 years and 7 months; West ), Death: April 340, Cause: Assassination, Age: 24 Ruled the praetorian prefecture of Gaul . Killed in an ambush during a war against his brother, Constans I [ 129 ]\n",
            "Name: Constans I, Birth: 322/323, Reign: 9 September 337 – January 350 (12 years and 4 months; Middle then West ), Death: January/February 350, Cause: Assassination, Age: 27 Ruled Italy, Illyricum and Africa initially, then the western empire after Constantine II's death. Overthrown and killed by Magnentius [ 130 ]\n",
            "Name: Constantius II, Birth: 7 August 317, Reign: 9 September 337 – 3 November 361 (24 years, 1 month and 25 days) East ; then whole, Death: 3 November 361, Cause: Disease, Age: 44 Ruled the east initially, then the whole empire after the death of Magnentius . Died of a fever shortly after planning to fight a war against Julian [ 131 ]\n",
            "Name: Magnentius, Birth: c. 303, Reign: 18 January 350 – 10 August 353 (3 years, 6 months and 23 days; West ), Death: 10 August 353, Cause: Suicide, Age: approx. 50 Committed suicide after losing the Battle of Mons Seleucus [ 132 ]\n",
            "Name: Vetranio, Birth: Unknown, Reign: 1 March – 25 December 350 (9 months and 24 days; West ), Death: c. 356 Abdicated in Constantius II's favor, retired, and died 6 years later [ 134 ], Cause: Unknown, Age: \n",
            "Name: Nepotianus, Birth: Unknown, Reign: 3 June – 30 June 350 (27 days; West ), Death: 30 June 350 Captured and executed by supporters of Magnentius [ 135 ], Cause: Assassination, Age: \n",
            "Name: Julian, Birth: 331, Reign: 3 November 361 – 26 June 363 (1 year, 7 months and 23 days), Death: 26 June 363, Cause: Unknown, Age: 32 Last non-Christian emperor. Mortally wounded during a campaign against Persia [ 136 ]\n",
            "Name: Jovian, Birth: 330/331, Reign: 27 June 363 – 17 February 364 (7 months and 21 days), Death: 17 February 364, Cause: Unknown, Age: 33 Died before reaching the capital, possibly due to inhaling toxic fumes or indigestion . Last emperor to rule the whole Empire during their entire reign [ 138 ]\n",
            "Name: Valentinian I, Birth: 321, Reign: 25/26 February 364 – 17 November 375 (11 years, 8 months and 23 days) Whole ; then West, Death: 17 November 375, Cause: Unknown, Age: 54 Last emperor to cross the Rhine into Germania. Died of a stroke while yelling at envoys [ 140 ]\n",
            "Name: Valens, Birth: c. 328, Reign: 28 March 364 – 9 August 378 (14 years, 4 months and 12 days; East ), Death: 9 August 378, Cause: Assassination, Age: nearly 50 Killed at the Battle of Adrianople [ 141 ]\n",
            "Name: Procopius, Birth: 326, Reign: 28 September 365 – 27 May 366 (7 months and 29 days; East ), Death: 27/28 May 366, Cause: Assassination, Age: 40 Deposed, captured and executed by Valens [ 142 ]\n",
            "Name: Gratian, Birth: 18 April 359, Reign: 17 November 375 – 25 August 383 (7 years, 9 months and 8 days; West ), Death: 25 August 383, Cause: Assassination, Age: 24 Killed by Andragathius , an officer of Magnus Maximus [ 143 ]\n",
            "Name: Magnus Maximus, Birth: Unknown, Reign: 25 August 383 – 28 August 388 (5 years and 3 days; West ) with Victor (383/387–388) [ s ], Death: 28 August 388 Defeated by Theodosius I at the Battle of Save , executed after surrendering [ 145 ], Cause: Assassination, Age: \n",
            "Name: Valentinian II, Birth: 371, Reign: 28 August 388 – 15 May 392 (3 years, 8 months and 17 days; West ), Death: 15 May 392, Cause: Assassination, Age: 20/21 Dominated by regents and co-emperors his entire reign. Probably suicide, possibly killed by Arbogast [ 146 ]\n",
            "Name: Eugenius, Birth: Unknown, Reign: 22 August 392 – 6 September 394 (2 years and 15 days; West ), Death: 6 September 394 Defeated by Theodosius I at the Battle of the Frigidus and executed [ 147 ], Cause: Assassination, Age: \n",
            "Name: Theodosius I, Birth: 11 January 346/347, Reign: 19 January 379 – 17 January 395 (15 years, 11 months and 29 days) East ; then whole, Death: 17 January 395, Cause: Natural Causes, Age: 48/49 Last emperor to briefly rule over the two halves of the Empire after the Battle of the Frigidus . Died of natural causes [ 148 ]\n",
            "Name: Arcadius, Birth: 377, Reign: 17 January 395 – 1 May 408 (13 years, 3 months and 14 days; East ), Death: 1 May 408, Cause: Natural Causes, Age: 31 Died of natural causes [ 149 ]\n",
            "Name: Honorius, Birth: 9 September 384, Reign: 17 January 395 – 15 August 423 (28 years, 6 months and 29 days; West ), Death: 15 August 423, Cause: Unknown, Age: 38 Reigned under several successive regencies, most notably Stilicho . His reign saw the first sack of Rome in eight centuries. Died of edema [ 150 ]\n",
            "Name: Constantine III, Birth: Unknown, Reign: 407 – 411 (4 years; West ) with Constans (409–411) [ s ], Death: 411, Cause: Assassination, Age: before 18 September Surrendered to Constantius , a general of Honorius, and abdicated. Sent to Italy but murdered on the way [ 151 ]\n",
            "Name: Theodosius II, Birth: 10 April 401, Reign: 1 May 408 – 28 July 450 (42 years, 2 months and 27 days; East ), Death: 28 July 450, Cause: Unknown, Age: 49 His reign saw the promulgation of the Theodosian Code and the construction of the Theodosian Walls . Died of a fall from his horse [ 152 ]\n",
            "Name: Priscus Attalus, Birth: Unknown lifespan Deposed by Alaric after reconciling with Honorius. Tried to claim the throne again 414, Reign: Late 409 – summer 410 (less than a year; Italy ), Death: 415 but was defeated and forced into exile; fate unknown [ 153 ], Cause: Unknown, Age: \n",
            "Name: Constantius III, Birth: Unknown, Reign: 8 February – 2 September 421 (6 months and 25 days ; West ), Death: 2 September 421 De facto ruler since 411; helped Honorius defeat numerous usurpers & foreign enemies. Died of illness [ 154 ], Cause: Unknown, Age: \n",
            "Name: Johannes, Birth: Unknown, Reign: 20 November 423 – c. May 425 (1 year and a half; West ), Death: c. May 425 Captured by the forces of Theodosius II, brought to Constantinople and executed [ 155 ], Cause: Assassination, Age: \n",
            "Name: Valentinian III, Birth: 2 July 419, Reign: 23 October 425 – 16 March 455 (29 years, 4 months and 21 days; West ), Death: 16 March 455, Cause: Assassination, Age: 35 Faced the invasion of the Huns . Murdered by Optelas and Thraustelas, retainers of Aetius [ 156 ]\n",
            "Name: Marcian, Birth: 391/392, Reign: 25 August 450 – 27 January 457 (6 years, 5 months and 2 days; East ), Death: 27 January 457, Cause: Unknown, Age: 65 Died after a prolonged period of illness [ 157 ]\n",
            "Name: Petronius Maximus, Birth: Unknown, Reign: 17 March – 31 May 455 (2 months and 14 days), Death: 31 May 455 Killed by a mob while fleeing during the Vandalic sack of Rome [ 158 ], Cause: Assassination, Age: \n",
            "Name: Avitus, Birth: Unknown, Reign: 9 July 455 – 17 October 456 (1 year, 3 months and 8 days), Death: 456/457 Defeated and deposed by the magister militum Ricimer , became a bishop. Died shortly after of either natural causes, strangulation, or being starved to death [ 159 ], Cause: Natural Causes, Age: \n",
            "Name: Majorian, Birth: Unknown, Reign: 28 December 457 – 2 August 461 (3 years, 7 months and 5 days), Death: 7 August 461 Reconquered Gaul, Hispania and Dalmatia. Deposed and executed by Ricimer [ 160 ], Cause: Assassination, Age: \n",
            "Name: Libius Severus, Birth: Unknown, Reign: 19 November 461 – 14 November 465 (3 years, 11 months and 26 days), Death: 14 November 465 Died of natural causes [ 161 ], Cause: Natural Causes, Age: \n",
            "Name: Anthemius, Birth: Unknown, Reign: 12 April 467 – 11 July 472 (5 years, 2 months and 29 days), Death: 11 July 472 The last effective emperor of the West. Murdered by Gundobad after a civil war with Ricimer [ 162 ], Cause: Assassination, Age: \n",
            "Name: Olybrius, Birth: Unknown, Reign: c. April – 2 November 472 (c. 7 months), Death: 2 November 472 Died of dropsy [ 163 ], Cause: Unknown, Age: \n",
            "Name: Glycerius, Birth: , Reign: 3/5 March 473 – 24 June 474 (1 year, 3 months and 19/21 days), Death: , Cause: Unknown, Age: \n",
            "Name: Julius Nepos, Birth: Unknown, Reign: 24 June 474 – 28 August 475 (1 year, 2 months and 4 days) August 475 – 9 May 480 (4 years and 8 months, in Dalmatia ), Death: 9 May 480 Fled to Dalmatia in the face of an attack by his magister militum Orestes . Continued to claim to be emperor in exile. Murdered by his retainers [ 165 ], Cause: Assassination, Age: \n",
            "Name: Romulus\"Augustulus\", Birth: Roughly 465, Reign: 31 October 475 – 4 September 476 (10 months and 4 days), Death: after 507/511? The last western emperor. Deposed by the Germanic general Odoacer and retired. Possibly alive as late as 507 or 511; fate unknown [ 166 ], Cause: Unknown, Age: \n",
            "Name: Leo I, Birth: 400/401, Reign: 7 February 457 – 18 January 474 (16 years, 11 months and 11 days), Death: 18 January 474, Cause: Disease, Age: 73 First emperor to be crowned by the Patriarch of Constantinople . Died of dysentery [ 167 ]\n",
            "Name: Leo II, Birth: 467, Reign: 18 January – November 474 (10 months), Death: November 474, Cause: Unknown, Age: 7 Youngest emperor at the time of his death. Died of illness [ 168 ]\n",
            "Name: Zeno, Birth: 425, Reign: 29 January 474 – 9 January 475 (11 months and 11 days), Death: 9 April 491, Cause: Unknown, Age: 65 Fled to Isauria in the face of a Revolt led by his mother-in-law Verina & Basiliscus . [ 169 ]\n",
            "Name: Basiliscus, Birth: Unknown, Reign: 9 January 475 – August 476 (1 year and 7 months) with Marcus (475–476) [ s ], Death: 476/477 Deposed by Zeno upon his return to Constantinople; imprisoned in a dried-up reservoir and starved to death [ 170 ], Cause: Unknown, Age: \n",
            "Name: Zeno, Birth: 425, Reign: August 476 – 9 April 491 (14 years and 8 months), Death: 9 April 491, Cause: Disease, Age: 65 Saw the end of the Western Roman Empire . Died of dysentery or epilepsy [ 169 ]\n",
            "Name: Anastasius I, Birth: 430/431, Reign: 11 April 491 – 9 July 518 (27 years, 2 months and 28 days), Death: 9 July 518, Cause: Natural Causes, Age: 88 Oldest emperor at the time of his death. Died of natural causes [ 171 ]\n",
            "Name: Justin I, Birth: 450, Reign: 9/10 July 518 – 1 August 527 (9 years and 23 days), Death: 1 August 527, Cause: Natural Causes, Age: 77 Died of natural causes [ 172 ]\n",
            "Name: Justinian I, Birth: 482, Reign: 1 April 527 – 14 November 565 (38 years, 7 months and 13 days), Death: 14 November 565, Cause: Natural Causes, Age: 83 Temporarily reconquered half of the Western Roman Empire , including Rome . Died of natural causes [ 173 ]\n",
            "Name: Justin II, Birth: Unknown, Reign: 14 November 565 – 5 October 578 (12 years, 10 months and 21 days), Death: 5 October 578 Lost most of Italy to the Lombards by 570. Suffered an attack of dementia in 574, whereafter the government was run by regents. Died of natural causes [ 174 ], Cause: Natural Causes, Age: \n",
            "Name: Tiberius IIConstantine, Birth: Mid-6th century, Reign: 26 September 578 – 14 August 582 (3 years, 10 months and 19 days), Death: 14 August 582 Died after a sudden illness, supposedly after accidentally eating bad food [ 175 ], Cause: Unknown, Age: \n",
            "Name: Maurice, Birth: 539, Reign: 13 August 582 – 27 November 602 (20 years, 3 months and 14 days) with Theodosius (590–602) [ s ], Death: 27 November 602, Cause: Assassination, Age: 63 Captured and executed by troops loyal to Phocas [ 176 ]\n",
            "Name: Phocas, Birth: 547, Reign: 23 November 602 – 5 October 610 (7 years, 10 months and 12 days), Death: 5 October 610, Cause: Unknown, Age: 63 Deposed and then beheaded on the orders of Heraclius [ 177 ]\n",
            "Name: Heraclius, Birth: 574/575, Reign: 5 October 610 – 11 February 641 (30 years, 4 months and 6 days), Death: 11 February 641, Cause: Natural Causes, Age: 66 Ended the Persian Wars , but suffered the loss of the Levant to the Muslims. Died of natural causes [ 180 ]\n",
            "Name: Heraclius Constantine, Birth: 3 May 612, Reign: 11 February – 25 May 641 (3 months and 14 days), Death: 25 May 641, Cause: Unknown, Age: 29 Died of tuberculosis [ 183 ]\n",
            "Name: Heraclonas, Birth: 626, Reign: 25 May – 5 November (?) 641 (5 months and 11 days) with his brother Tiberius -David (641) [ s ], Death: unknown Deposed, mutilated and exiled, subsequent fate unknown [ 184 ], Cause: Unknown, Age: \n",
            "Name: Constans II, Birth: 7 November 630, Reign: September 641 – 15 July 668 (26 years and 10 months), Death: 15 July 668, Cause: Assassination, Age: 37 Lost Egypt in 641. Murdered in Sicily while bathing by supporters of Mezezius [ 185 ]\n",
            "Name: Constantine IV, Birth: Roughly 650, Reign: September 668 – 10 July (?) 685 (16 years and 10 months) with his brothers Heraclius and Tiberius (659–681) [ s ], Death: 10 July, Cause: Disease, Age: ? 685\n",
            "Name: Justinian II, Birth: 668/669, Reign: July 685 – 695 (10 years), Death: 4 November 711, Cause: Unknown, Age: 42 Deposed and mutilated\n",
            "Name: Leontius, Birth: Unknown, Reign: 695 – 698 (3 years), Death: 15 February, Cause: Assassination, Age: ? 706 Lost Africa & Carthage to the Muslims. Deposed by Tiberius III in 698 and later executed by Justinian II in 706 [ 188 ]\n",
            "Name: Tiberius III, Birth: Unknown, Reign: 698 – 21 August (?) 705 (7 years), Death: 15 February, Cause: Assassination, Age: ? 706 Deposed and later executed by Justinian II alongside Leontius [ 189 ]\n",
            "Name: Justinian II, Birth: 668/669, Reign: 21 August (?) 705 – 4 November 711 (6 years, 2 months and 14 days) with Tiberius (706–711) [ s ], Death: 4 November 711, Cause: Assassination, Age: 42 Killed by supporters of Philippicus after fleeing Constantinople [ 190 ]\n",
            "Name: Philippicus, Birth: Unknown, Reign: 4 November 711 – 3 June 713 (1 year, 6 months and 30 days), Death: 20 January 714/715 Deposed and blinded in favor of Anastasius II , later died of natural causes [ 191 ], Cause: Natural Causes, Age: \n",
            "Name: Anastasius II, Birth: Unknown, Reign: 4 June 713 – fall 715 (less than 2 years), Death: 1 June 719 Abdicated to Theodosius III after a six-month civil war, becoming a monk. Beheaded by Leo III after an attempt to retake the throne [ 192 ], Cause: Unknown, Age: \n",
            "Name: Theodosius III, Birth: , Reign: Fall 715 – 25 March 717 (less than 2 years), Death: , Cause: Unknown, Age: \n",
            "Name: Leo III, Birth: c. 685, Reign: 25 March 717 – 18 June 741 (24 years, 2 months and 24 days), Death: 18 June 741, Cause: Unknown, Age: approx. 56 Ended Muslim expansion in Anatolia. Died of dropsy [ 194 ]\n",
            "Name: Constantine V, Birth: 718, Reign: 18 June 741 – 14 September 775 (34 years, 2 months and 27 days), Death: 14 September 775, Cause: Disease, Age: 57 Last emperor to rule over Rome. Died of a fever [ 195 ]\n",
            "Name: Artabasdos, Birth: , Reign: June 741 – 2 November 743 (2 years and 5 months) with Nikephoros (741–743), Death: , Cause: Natural Causes, Age: \n",
            "Name: Leo IV, Birth: 25 January 750, Reign: 14 September 775 – 8 September 780 (4 years, 11 months and 25 days), Death: 8 September 780, Cause: Disease, Age: 30 Died of a fever [ 197 ]\n",
            "Name: Constantine VI, Birth: 14 January 771, Reign: 8 September 780 – 19 August 797 (16 years, 11 months and 11 days), Death: before 805, Cause: Unknown, Age: less than 34 Last emperor to be recognized in the West. Deposed, blinded and exiled by Irene [ 198 ]\n",
            "Name: Irene, Birth: c. 752, Reign: 19 August 797 – 31 October 802 (5 years, 2 months and 12 days), Death: 9 August 803, Cause: Natural Causes, Age: approx. 51 Deposed by Nikephoros I and exiled to Lesbos , where she died of natural causes [ 199 ]\n",
            "Name: Nikephoros I, Birth: c. 760, Reign: 31 October 802 – 26 July 811 (8 years, 8 months and 26 days), Death: 26 July 811, Cause: Assassination, Age: approx. 51 Killed at the Battle of Pliska [ 200 ]\n",
            "Name: Staurakios, Birth: 790s, Reign: 28 July – 2 October 811 (2 months and 4 days), Death: 11 January 812, Cause: Unknown, Age: in his late teens Wounded at Pliska ; abdicated in favor of Michael I and became a monk [ 201 ]\n",
            "Name: Michael IRangabe, Birth: c. 770, Reign: 2 October 811 – 11 July 813 (1 year, 9 months and 9 days) with Theophylact and Staurakios ( II ) [ s ], Death: 11 January 844, Cause: Unknown, Age: approx. 74 Abdicated in 813 in favor of Leo V after suffering a defeat at the Battle of Versinikia and retired as a monk [ 202 ]\n",
            "Name: Leo V, Birth: c. 775, Reign: 11 July 813 – 25 December 820 (7 years, 5 months and 14 days) with Constantine Symbatios [ s ], Death: 25 December 820, Cause: Assassination, Age: approx. 45 Murdered while in church by supporters of Michael II [ 203 ]\n",
            "Name: Michael II, Birth: c. 770, Reign: 25 December 820 – 2 October 829 (8 years, 9 months and 7 days), Death: 2 October 829, Cause: Unknown, Age: approx. 59 Saw the beginning of the Muslim conquest of Sicily . Died of kidney failure [ 205 ]\n",
            "Name: Theophilos, Birth: 812/813, Reign: 2 October 829 – 20 January 842 (12 years, 3 months and 18 days) with Constantine ( c. 834–835) [ s ], Death: 20 January 842, Cause: Disease, Age: 30 Died of dysentery [ 206 ]\n",
            "Name: Theodora, Birth: c. 815, Reign: 20 January 842 – 15 March 856 (14 years, 1 month and 24 days) with Thekla (842–856) [ s ], Death: c. 867, Cause: Natural Causes, Age: approx. 52 Deposed by Michael III in 856, later died of natural causes [ 207 ]\n",
            "Name: Michael III, Birth: 19 January 840, Reign: 20 January 842 – 24 September 867 (25 years, 8 months and 4 days), Death: 24 September 867, Cause: Assassination, Age: 27 The youngest emperor. Murdered by Basil I and his supporters [ 208 ]\n",
            "Name: Basil I, Birth: 811, 830 or 836, Reign: 24 September 867 – 29 August 886 (18 years, 11 months and 5 days) with Constantine (868–879) [ s ], Death: 29 August 886, Cause: Unknown, Age: approx. 50, 56 or 75 Captured Bari in 876 & Taranto in 880. Died after a hunting accident [ 209 ]\n",
            "Name: Leo VI, Birth: 19 September 866, Reign: 29 August 886 – 11 May 912 (25 years, 8 months and 12 days), Death: 11 May 912, Cause: Disease, Age: 45 Conquered Southern Italy but lost the remnants of Sicily in 902. Died of an intestinal disease [ 210 ]\n",
            "Name: Alexander, Birth: 23 November 870, Reign: 11 May 912 – 6 June 913 (1 year and 26 days), Death: 6 June 913, Cause: Unknown, Age: 42 Died of illness, possibly testicular cancer [ 211 ]\n",
            "Name: Constantine VIIPorphyrogenitus, Birth: 17/18 May 905, Reign: 6 June 913 – 9 November 959 (46 years, 5 months and 3 days), Death: 9 November 959, Cause: Natural Causes, Age: 54 Saw the beginning of renewed expansion in the East against the Arabs. Remembered for his numerous writings. Died of natural causes [ 212 ]\n",
            "Name: Romanos ILekapenos, Birth: c. 870, Reign: 17 December 920 – 20 December 944 (24 years and 3 days) with Christopher (921–931), Stephen and Constantine Lekapenos (924–945) [ s ], Death: 15 June 948, Cause: Natural Causes, Age: approx. 78 Deposed by his sons Stephen and Constantine. Died of natural causes in exile as a monk [ 213 ]\n",
            "Name: Romanos II, Birth: 938, Reign: 9 November 959 – 15 March 963 (3 years, 4 months and 6 days), Death: 15 March 963, Cause: Unknown, Age: 24/25 Reconquered Crete in 961. Died of exhaustion on a hunting trip [ 214 ]\n",
            "Name: Nikephoros IIPhokas, Birth: c. 912, Reign: 16 August 963 – 11 December 969 (6 years, 3 months and 25 days), Death: 11 December 969, Cause: Assassination, Age: approx. 57 Reconquered Cilicia & Antioch . Murdered in a conspiracy involving his former supporters\n",
            "Name: John ITzimiskes, Birth: c. 925, Reign: 11 December 969 – 10 January 976 (6 years and 30 days), Death: 10 January 976, Cause: Poison, Age: approx. 50 Reconquered Eastern Thrace from the First Bulgarian Empire . Possibly poisoned by Basil Lekapenos [ 216 ]\n",
            "Name: Basil II, Birth: 958, Reign: 10 January 976 – 15 December 1025 (49 years, 11 months and 5 days), Death: 15 December 1025, Cause: Natural Causes, Age: 67 The longest-reigning emperor; best known for his reconquest of Bulgaria . Died of natural causes [ 217 ]\n",
            "Name: Constantine VIII, Birth: 960, Reign: 15 December 1025 – 12 November 1028 (2 years, 10 months and 28 days), Death: 12 November 1028, Cause: Natural Causes, Age: 68 De jure longest-reigning emperor. Died of natural causes [ 218 ]\n",
            "Name: Romanos IIIArgyros, Birth: c. 968, Reign: 12 November 1028 – 11 April 1034 (5 years, 4 months and 30 days), Death: 11 April 1034, Cause: Unknown, Age: approx. 66 Temporarily reconquered Edessa in 1031. Possibly drowned on Zoë's orders [ 219 ]\n",
            "Name: Michael IV, Birth: c. 1010, Reign: 12 April 1034 – 10 December 1041 (7 years, 7 months and 28 days), Death: 10 December 1041, Cause: Unknown, Age: approx. 31 Died of epilepsy [ 220 ]\n",
            "Name: Michael V, Birth: c. 1015, Reign: 13 December 1041 – 21 April 1042 (4 months and 8 days), Death: unknown Deposed in a popular uprising after attempting to sideline Zoë, blinded and forced to become a monk [ 221 ], Cause: Unknown, Age: \n",
            "Name: ZoëPorphyrogenita, Birth: c. 978, Reign: 21 April – 11 June 1042 (1 month and 21 days), Death: 1050, Cause: Natural Causes, Age: approx. 72 Died of natural causes [ 222 ]\n",
            "Name: TheodoraPorphyrogenita, Birth: c. 980, Reign: 21 April – 11 June 1042 (1 month and 21 days), Death: 31 August 1056, Cause: Unknown, Age: approx. 76 Sidelined after Zoë's marriage to Constantine IX, returned to the throne in 1055 [ 223 ]\n",
            "Name: Constantine IXMonomachos, Birth: c. 1006, Reign: 11 June 1042 – 11 January 1055 (12 years and 7 months), Death: 11 January 1055, Cause: Natural Causes, Age: approx. 49 Died of natural causes [ 225 ]\n",
            "Name: TheodoraPorphyrogenita, Birth: c. 980, Reign: 11 January 1055 – 31 August 1056 (1 year, 7 months and 20 days), Death: 31 August 1056, Cause: Natural Causes, Age: approx. 76 Died of natural causes [ 223 ]\n",
            "Name: Michael VIBringas, Birth: 980s/990s, Reign: 22 August 1056 – 30 August 1057 (1 year and 8 days), Death: c. 1057, Cause: Unknown, Age: in his sixties Deposed in a revolt, retired to a monastery and died soon afterwards [ 226 ]\n",
            "Name: Isaac IKomnenos, Birth: c. 1007, Reign: 1 September 1057 – 22 November 1059 (2 years, 2 months and 21 days), Death: 31 May/1 June 1060, Cause: Unknown, Age: approx. 53 Abdicated to Constantine X due to illness and hostile courtiers, became a monk [ 227 ]\n",
            "Name: Constantine XDoukas, Birth: c. 1006, Reign: 23 November 1059 – 23 May 1067 (7 years and 6 months), Death: 23 May 1067, Cause: Natural Causes, Age: approx. 61 Lost nearly all Italian territories to the Normans . Died of natural causes [ 228 ]\n",
            "Name: EudokiaMakrembolitissa, Birth: c. 1030, Reign: 23 May – 31 December 1067 (7 months and 8 days), Death: after 1078 Became a nun in November 1071 and later died of natural causes [ 229 ], Cause: Natural Causes, Age: \n",
            "Name: Romanos IVDiogenes, Birth: c. 1032, Reign: 1 January 1068 – 26 August 1071 (3 years, 7 months and 25 days) with Leo and Nikephoros Diogenes ( c. 1070–71) [ s ] [ y ], Death: 4 August 1072, Cause: Unknown, Age: approx. 40 Captured at Manzikert by the Seljuk Turks . After his release blinded on 29 June 1072 by John Doukas , later dying of his wounds [ 231 ]\n",
            "Name: Michael VIIDoukas, Birth: c. 1050, Reign: 1 October 1071 – 24/31 March 1078 (6 years, 5 months and 23/30 days) with Konstantios (1060–1078), Andronikos (1068–1070s) and Constantine Doukas (1074–78; 1st time) [ s ], Death: c. 1090, Cause: Natural Causes, Age: approx. 40 Lost nearly all of Anatolia to the Turks. Forced to become a monk after a popular uprising. Died of natural causes several years later [ 232 ]\n",
            "Name: Nikephoros IIIBotaneiates, Birth: 1001/1002, Reign: 3 April 1078 – 1 April 1081 (2 years, 11 months and 29 days), Death: c. 1081, Cause: Natural Causes, Age: approx. 80 Abdicated after Alexios I captured Constantinople, became a monk and died of natural causes, probably later in the same year [ 233 ]\n",
            "Name: Alexios IKomnenos, Birth: c. 1057, Reign: 1 April 1081 – 15 August 1118 (37 years, 4 months and 14 days) with Constantine Doukas (1081–1087; 2nd time ) [ s ], Death: 15 August 1118, Cause: Natural Causes, Age: approx. 61 Started the Crusades & the reconquest of Anatolia. Died of natural causes [ 234 ]\n",
            "Name: John IIKomnenos, Birth: 13 September 1087, Reign: 15 August 1118 – 8 April 1143 (24 years, 7 months and 24 days) with Alexios the Younger (1119–1142) [ s ], Death: 8 April 1143, Cause: Assassination, Age: 55 Reconquered most of Anatolia by the time of his death. Died of injuries sustained in a hunting accident, possibly assassinated\n",
            "Name: Manuel IKomnenos, Birth: 28 November 1118, Reign: 8 April 1143 – 24 September 1180 (37 years, 5 months and 16 days), Death: 24 September 1180, Cause: Natural Causes, Age: 61 Last emperor to attempt reconquests in the west. Died of natural causes [ 236 ]\n",
            "Name: Alexios IIKomnenos, Birth: 14 September 1169, Reign: 24 September 1180 – c. September 1183 (3 years), Death: c. September 1183, Cause: Assassination, Age: 14 Strangled on the orders of Andronikos I , body thrown in the sea [ 237 ]\n",
            "Name: Andronikos IKomnenos, Birth: c. 1118/1120, Reign: c. September 1183 – 12 September 1185 (2 years) with John Komnenos (1183–1185) [ s ], Death: 12 September 1185, Cause: Unknown, Age: 64\n",
            "Name: Isaac IIAngelos, Birth: c. 1156, Reign: 12 September 1185 – 8 April 1195 (9 years, 6 months and 27 days), Death: January 1204, Cause: Unknown, Age: 47 Suffered the loss of Bulgaria. Overthrown and blinded by Alexios III in 1195, reinstalled in 1203 [ 239 ]\n",
            "Name: Alexios IIIAngelos, Birth: c. 1153, Reign: 8 April 1195 – 17/18 July 1203 (8 years, 3 months and 10 days), Death: 1211/1212, Cause: Natural Causes, Age: approx. 58 Fled after brief resistance against the Fourth Crusade . Died a natural death after being captured and forced to become a monk by Theodore I [ 241 ]\n",
            "Name: Alexios IVAngelos, Birth: c. 1182/1183, Reign: 19 July 1203 – 27 January 1204 (6 months and 8 days), Death: c. 8 February 1204, Cause: Assassination, Age: approx. 21 Deposed and imprisoned by Alexios V , then strangled in prison [ 242 ]\n",
            "Name: Isaac IIAngelos, Birth: c. 1156, Reign: 19 July 1203 – 27 January 1204 (6 months and 8 days), Death: January 1204, Cause: Natural Causes, Age: 47 Became senile or demented and died of natural causes shortly before Alexios V's coup [ 239 ]\n",
            "Name: Alexios VDoukas, Birth: c. 1139, Reign: 27/28 January – 12 April 1204 (2 months and 16 days), Death: c. late November 1204, Cause: Unknown, Age: approx. 65 Fled during the sack of Constantinople . Blinded by Alexios III, later captured by crusader Thierry de Loos and thrown from the Column of Theodosius [ 243 ]\n",
            "Name: Theodore ILaskaris, Birth: c. 1174, Reign: c. May 1205 – November 1221 (16 years and 6 months) with Nicholas Laskaris (1208–1210) [ s ], Death: November 1221, Cause: Natural Causes, Age: approx. 47 Died of natural causes [ 244 ]\n",
            "Name: John IIIVatatzes, Birth: c. 1192, Reign: c. December 1221 – 3 November 1254 (32 years and 11 months), Death: 3 November 1254, Cause: Natural Causes, Age: approx. 62 Started Nicaean expansionism. Died of natural causes [ 245 ]\n",
            "Name: Theodore IILaskaris, Birth: November 1221, Reign: 3 November 1254 – 16 August 1258 (3 years, 9 months and 13 days), Death: 16 August 1258, Cause: Unknown, Age: 36 Died of epilepsy [ 246 ]\n",
            "Name: John IVLaskaris, Birth: 25 December 1250, Reign: 16 August 1258 – 25 December 1261 (3 years, 4 months and 9 days), Death: c. 1305, Cause: Unknown, Age: approx. 55 Blinded, deposed and imprisoned by Michael VIII Palaiologos in 1261, died in captivity several decades later [ 247 ]\n",
            "Name: Michael VIIIPalaiologos, Birth: 1224/1225, Reign: 1 January 1259 – 11 December 1282 (23 years, 11 months and 10 days), Death: 11 December 1282, Cause: Disease, Age: 57/58 Died of dysentery [ 248 ]\n",
            "Name: Andronikos IIPalaiologos, Birth: 25 March 1259, Reign: 11 December 1282 – 24 May 1328 (45 years, 5 months and 13 days), Death: 13 February 1332, Cause: Natural Causes, Age: 72 Deposed by his grandson Andronikos III in 1328 and became a monk, dying of natural causes four years later [ 249 ]\n",
            "Name: Michael IXPalaiologos, Birth: 17 April 1277/1278, Reign: 21 May 1294 – 12 October 1320 (26 years, 4 months and 21 days), Death: 12 October 1320, Cause: Natural Causes, Age: 42/43 Allegedly died of grief due to the accidental murder of his second son, probably died of natural causes [ 250 ]\n",
            "Name: Andronikos IIIPalaiologos, Birth: 25 March 1297, Reign: 24 May 1328 – 15 June 1341 (13 years and 22 days), Death: 15 June 1341, Cause: Unknown, Age: 44 Last Emperor to effectively control Greece. Died of sudden illness, possibly malaria [ 251 ]\n",
            "Name: John VPalaiologos, Birth: 18 June 1332, Reign: 15 June 1341 – 16 February 1391 (49 years, 8 months and 1 day) Details 15 June 1341 – 12 August 1376 (35 years, 1 month and 28 days) 1 July 1379 – 14 April 1390 (10 years, 9 months and 13 days) 17 September 1390 – 16 February 1391 (4 months and 30 days), Death: 16 February 1391, Cause: Natural Causes, Age: 58 Reigned almost 50 years, but only held effective power for 33. Lost almost all territories outside Constantinople. Died of natural causes [ 252 ]\n",
            "Name: John VIKantakouzenos, Birth: c. 1295, Reign: 8 February 1347 – 10 December 1354 (7 years, 10 months and 2 days) with Matthew Kantakouzenos (1353–1357) [ s ], Death: 15 June 1383, Cause: Natural Causes, Age: approx. 88 Deposed by John V in another civil war and retired, becoming a monk. Died of natural causes several decades later [ 253 ]\n",
            "Name: Andronikos IVPalaiologos, Birth: 11 April 1348, Reign: 12 August 1376 – 1 July 1379 (2 years, 10 months and 19 days) May 1381 – June 1385 (4 years, in Selymbria ), Death: 25/28 June 1385, Cause: Unknown, Age: 37 Deposed by John V in 1379; fled to Galata in exile but was restored as co-emperor and heir in May 1381, ruling over Selymbria and the coast of Marmara . Rebelled again in June 1385 but died shortly thereafter [ 254 ]\n",
            "Name: John VIIPalaiologos, Birth: 1370, Reign: 14 April – 17 September 1390 (5 months and 3 days) late 1403 – 22 September 1408 (5 years, in Thessalonica ) with Andronikos V Palaiologos (1403–1407) [ s ], Death: 22 September 1408, Cause: Natural Causes, Age: 38 Ruled Constantinople as regent in 1399\n",
            "Name: Manuel IIPalaiologos, Birth: 27 June 1350, Reign: 16 February 1391 – 21 July 1425 (34 years, 4 months and 5 days), Death: 21 July 1425, Cause: Natural Causes, Age: 74 Suffered a stroke in 1422, whereafter the government was run by his son, John VIII. Died of natural causes [ 256 ]\n",
            "Name: John VIIIPalaiologos, Birth: 18 December 1392, Reign: 21 July 1425 – 31 October 1448 (23 years, 4 months and 10 days), Death: 31 October 1448, Cause: Natural Causes, Age: 55 Died of natural causes [ 257 ]\n",
            "Name: Constantine XIPalaiologos, Birth: 8 February 1405, Reign: 6 January 1449 – 29 May 1453 (4 years, 4 months and 23 days), Death: 29 May 1453, Cause: Unknown, Age: 48 The last Roman emperor. Died in battle at the fall of Constantinople . [ 258 ]\n"
          ]
        }
      ]
    },
    {
      "cell_type": "code",
      "source": [
        "print(f\"Length of names: {len(names)}\")\n",
        "print(f\"Length of births: {len(births)}\")\n",
        "print(f\"Length of deaths: {len(deaths)}\")\n",
        "print(f\"Length of reigns: {len(reigns)}\")\n",
        "print(f\"Length of causes: {len(causes)}\")\n",
        "print(f\"Length of ages: {len(ages)}\")\n"
      ],
      "metadata": {
        "colab": {
          "base_uri": "https://localhost:8080/"
        },
        "id": "uT2650cZl7P_",
        "outputId": "aa6a5351-7daf-4ed6-a653-618950babca9"
      },
      "execution_count": 65,
      "outputs": [
        {
          "output_type": "stream",
          "name": "stdout",
          "text": [
            "Length of names: 186\n",
            "Length of births: 190\n",
            "Length of deaths: 190\n",
            "Length of reigns: 190\n",
            "Length of causes: 190\n",
            "Length of ages: 190\n"
          ]
        }
      ]
    },
    {
      "cell_type": "code",
      "source": [
        "data = {\n",
        "    \"Name\": names,\n",
        "    \"Birth\": births,\n",
        "    \"Reign\": reigns,\n",
        "    \"Death\": deaths,\n",
        "    \"Cause\": causes,\n",
        "    \"Age\": ages\n",
        "}\n",
        "df = pd.DataFrame(data)\n",
        "\n",
        "print(df)"
      ],
      "metadata": {
        "colab": {
          "base_uri": "https://localhost:8080/",
          "height": 356
        },
        "id": "nPkF8TPOlKRD",
        "outputId": "b1daef11-bc7d-4024-e5d1-59019e199fa4"
      },
      "execution_count": 64,
      "outputs": [
        {
          "output_type": "error",
          "ename": "ValueError",
          "evalue": "All arrays must be of the same length",
          "traceback": [
            "\u001b[0;31m---------------------------------------------------------------------------\u001b[0m",
            "\u001b[0;31mValueError\u001b[0m                                Traceback (most recent call last)",
            "\u001b[0;32m<ipython-input-64-8ec89f85573d>\u001b[0m in \u001b[0;36m<cell line: 9>\u001b[0;34m()\u001b[0m\n\u001b[1;32m      7\u001b[0m     \u001b[0;34m\"Age\"\u001b[0m\u001b[0;34m:\u001b[0m \u001b[0mages\u001b[0m\u001b[0;34m\u001b[0m\u001b[0;34m\u001b[0m\u001b[0m\n\u001b[1;32m      8\u001b[0m }\n\u001b[0;32m----> 9\u001b[0;31m \u001b[0mdf\u001b[0m \u001b[0;34m=\u001b[0m \u001b[0mpd\u001b[0m\u001b[0;34m.\u001b[0m\u001b[0mDataFrame\u001b[0m\u001b[0;34m(\u001b[0m\u001b[0mdata\u001b[0m\u001b[0;34m)\u001b[0m\u001b[0;34m\u001b[0m\u001b[0;34m\u001b[0m\u001b[0m\n\u001b[0m\u001b[1;32m     10\u001b[0m \u001b[0;34m\u001b[0m\u001b[0m\n\u001b[1;32m     11\u001b[0m \u001b[0mprint\u001b[0m\u001b[0;34m(\u001b[0m\u001b[0mdf\u001b[0m\u001b[0;34m)\u001b[0m\u001b[0;34m\u001b[0m\u001b[0;34m\u001b[0m\u001b[0m\n",
            "\u001b[0;32m/usr/local/lib/python3.10/dist-packages/pandas/core/frame.py\u001b[0m in \u001b[0;36m__init__\u001b[0;34m(self, data, index, columns, dtype, copy)\u001b[0m\n\u001b[1;32m    776\u001b[0m         \u001b[0;32melif\u001b[0m \u001b[0misinstance\u001b[0m\u001b[0;34m(\u001b[0m\u001b[0mdata\u001b[0m\u001b[0;34m,\u001b[0m \u001b[0mdict\u001b[0m\u001b[0;34m)\u001b[0m\u001b[0;34m:\u001b[0m\u001b[0;34m\u001b[0m\u001b[0;34m\u001b[0m\u001b[0m\n\u001b[1;32m    777\u001b[0m             \u001b[0;31m# GH#38939 de facto copy defaults to False only in non-dict cases\u001b[0m\u001b[0;34m\u001b[0m\u001b[0;34m\u001b[0m\u001b[0m\n\u001b[0;32m--> 778\u001b[0;31m             \u001b[0mmgr\u001b[0m \u001b[0;34m=\u001b[0m \u001b[0mdict_to_mgr\u001b[0m\u001b[0;34m(\u001b[0m\u001b[0mdata\u001b[0m\u001b[0;34m,\u001b[0m \u001b[0mindex\u001b[0m\u001b[0;34m,\u001b[0m \u001b[0mcolumns\u001b[0m\u001b[0;34m,\u001b[0m \u001b[0mdtype\u001b[0m\u001b[0;34m=\u001b[0m\u001b[0mdtype\u001b[0m\u001b[0;34m,\u001b[0m \u001b[0mcopy\u001b[0m\u001b[0;34m=\u001b[0m\u001b[0mcopy\u001b[0m\u001b[0;34m,\u001b[0m \u001b[0mtyp\u001b[0m\u001b[0;34m=\u001b[0m\u001b[0mmanager\u001b[0m\u001b[0;34m)\u001b[0m\u001b[0;34m\u001b[0m\u001b[0;34m\u001b[0m\u001b[0m\n\u001b[0m\u001b[1;32m    779\u001b[0m         \u001b[0;32melif\u001b[0m \u001b[0misinstance\u001b[0m\u001b[0;34m(\u001b[0m\u001b[0mdata\u001b[0m\u001b[0;34m,\u001b[0m \u001b[0mma\u001b[0m\u001b[0;34m.\u001b[0m\u001b[0mMaskedArray\u001b[0m\u001b[0;34m)\u001b[0m\u001b[0;34m:\u001b[0m\u001b[0;34m\u001b[0m\u001b[0;34m\u001b[0m\u001b[0m\n\u001b[1;32m    780\u001b[0m             \u001b[0;32mfrom\u001b[0m \u001b[0mnumpy\u001b[0m\u001b[0;34m.\u001b[0m\u001b[0mma\u001b[0m \u001b[0;32mimport\u001b[0m \u001b[0mmrecords\u001b[0m\u001b[0;34m\u001b[0m\u001b[0;34m\u001b[0m\u001b[0m\n",
            "\u001b[0;32m/usr/local/lib/python3.10/dist-packages/pandas/core/internals/construction.py\u001b[0m in \u001b[0;36mdict_to_mgr\u001b[0;34m(data, index, columns, dtype, typ, copy)\u001b[0m\n\u001b[1;32m    501\u001b[0m             \u001b[0marrays\u001b[0m \u001b[0;34m=\u001b[0m \u001b[0;34m[\u001b[0m\u001b[0mx\u001b[0m\u001b[0;34m.\u001b[0m\u001b[0mcopy\u001b[0m\u001b[0;34m(\u001b[0m\u001b[0;34m)\u001b[0m \u001b[0;32mif\u001b[0m \u001b[0mhasattr\u001b[0m\u001b[0;34m(\u001b[0m\u001b[0mx\u001b[0m\u001b[0;34m,\u001b[0m \u001b[0;34m\"dtype\"\u001b[0m\u001b[0;34m)\u001b[0m \u001b[0;32melse\u001b[0m \u001b[0mx\u001b[0m \u001b[0;32mfor\u001b[0m \u001b[0mx\u001b[0m \u001b[0;32min\u001b[0m \u001b[0marrays\u001b[0m\u001b[0;34m]\u001b[0m\u001b[0;34m\u001b[0m\u001b[0;34m\u001b[0m\u001b[0m\n\u001b[1;32m    502\u001b[0m \u001b[0;34m\u001b[0m\u001b[0m\n\u001b[0;32m--> 503\u001b[0;31m     \u001b[0;32mreturn\u001b[0m \u001b[0marrays_to_mgr\u001b[0m\u001b[0;34m(\u001b[0m\u001b[0marrays\u001b[0m\u001b[0;34m,\u001b[0m \u001b[0mcolumns\u001b[0m\u001b[0;34m,\u001b[0m \u001b[0mindex\u001b[0m\u001b[0;34m,\u001b[0m \u001b[0mdtype\u001b[0m\u001b[0;34m=\u001b[0m\u001b[0mdtype\u001b[0m\u001b[0;34m,\u001b[0m \u001b[0mtyp\u001b[0m\u001b[0;34m=\u001b[0m\u001b[0mtyp\u001b[0m\u001b[0;34m,\u001b[0m \u001b[0mconsolidate\u001b[0m\u001b[0;34m=\u001b[0m\u001b[0mcopy\u001b[0m\u001b[0;34m)\u001b[0m\u001b[0;34m\u001b[0m\u001b[0;34m\u001b[0m\u001b[0m\n\u001b[0m\u001b[1;32m    504\u001b[0m \u001b[0;34m\u001b[0m\u001b[0m\n\u001b[1;32m    505\u001b[0m \u001b[0;34m\u001b[0m\u001b[0m\n",
            "\u001b[0;32m/usr/local/lib/python3.10/dist-packages/pandas/core/internals/construction.py\u001b[0m in \u001b[0;36marrays_to_mgr\u001b[0;34m(arrays, columns, index, dtype, verify_integrity, typ, consolidate)\u001b[0m\n\u001b[1;32m    112\u001b[0m         \u001b[0;31m# figure out the index, if necessary\u001b[0m\u001b[0;34m\u001b[0m\u001b[0;34m\u001b[0m\u001b[0m\n\u001b[1;32m    113\u001b[0m         \u001b[0;32mif\u001b[0m \u001b[0mindex\u001b[0m \u001b[0;32mis\u001b[0m \u001b[0;32mNone\u001b[0m\u001b[0;34m:\u001b[0m\u001b[0;34m\u001b[0m\u001b[0;34m\u001b[0m\u001b[0m\n\u001b[0;32m--> 114\u001b[0;31m             \u001b[0mindex\u001b[0m \u001b[0;34m=\u001b[0m \u001b[0m_extract_index\u001b[0m\u001b[0;34m(\u001b[0m\u001b[0marrays\u001b[0m\u001b[0;34m)\u001b[0m\u001b[0;34m\u001b[0m\u001b[0;34m\u001b[0m\u001b[0m\n\u001b[0m\u001b[1;32m    115\u001b[0m         \u001b[0;32melse\u001b[0m\u001b[0;34m:\u001b[0m\u001b[0;34m\u001b[0m\u001b[0;34m\u001b[0m\u001b[0m\n\u001b[1;32m    116\u001b[0m             \u001b[0mindex\u001b[0m \u001b[0;34m=\u001b[0m \u001b[0mensure_index\u001b[0m\u001b[0;34m(\u001b[0m\u001b[0mindex\u001b[0m\u001b[0;34m)\u001b[0m\u001b[0;34m\u001b[0m\u001b[0;34m\u001b[0m\u001b[0m\n",
            "\u001b[0;32m/usr/local/lib/python3.10/dist-packages/pandas/core/internals/construction.py\u001b[0m in \u001b[0;36m_extract_index\u001b[0;34m(data)\u001b[0m\n\u001b[1;32m    675\u001b[0m         \u001b[0mlengths\u001b[0m \u001b[0;34m=\u001b[0m \u001b[0mlist\u001b[0m\u001b[0;34m(\u001b[0m\u001b[0mset\u001b[0m\u001b[0;34m(\u001b[0m\u001b[0mraw_lengths\u001b[0m\u001b[0;34m)\u001b[0m\u001b[0;34m)\u001b[0m\u001b[0;34m\u001b[0m\u001b[0;34m\u001b[0m\u001b[0m\n\u001b[1;32m    676\u001b[0m         \u001b[0;32mif\u001b[0m \u001b[0mlen\u001b[0m\u001b[0;34m(\u001b[0m\u001b[0mlengths\u001b[0m\u001b[0;34m)\u001b[0m \u001b[0;34m>\u001b[0m \u001b[0;36m1\u001b[0m\u001b[0;34m:\u001b[0m\u001b[0;34m\u001b[0m\u001b[0;34m\u001b[0m\u001b[0m\n\u001b[0;32m--> 677\u001b[0;31m             \u001b[0;32mraise\u001b[0m \u001b[0mValueError\u001b[0m\u001b[0;34m(\u001b[0m\u001b[0;34m\"All arrays must be of the same length\"\u001b[0m\u001b[0;34m)\u001b[0m\u001b[0;34m\u001b[0m\u001b[0;34m\u001b[0m\u001b[0m\n\u001b[0m\u001b[1;32m    678\u001b[0m \u001b[0;34m\u001b[0m\u001b[0m\n\u001b[1;32m    679\u001b[0m         \u001b[0;32mif\u001b[0m \u001b[0mhave_dicts\u001b[0m\u001b[0;34m:\u001b[0m\u001b[0;34m\u001b[0m\u001b[0;34m\u001b[0m\u001b[0m\n",
            "\u001b[0;31mValueError\u001b[0m: All arrays must be of the same length"
          ]
        }
      ]
    }
  ]
}